{
 "cells": [
  {
   "cell_type": "code",
   "execution_count": 1,
   "metadata": {},
   "outputs": [],
   "source": [
    "import pandas as pd\n",
    "import geopy as gp"
   ]
  },
  {
   "cell_type": "markdown",
   "metadata": {},
   "source": [
    "Data retrieving"
   ]
  },
  {
   "cell_type": "code",
   "execution_count": 2,
   "metadata": {},
   "outputs": [],
   "source": [
    "records = pd.read_csv(\"../data.csv\")"
   ]
  },
  {
   "cell_type": "code",
   "execution_count": 6,
   "metadata": {},
   "outputs": [
    {
     "data": {
      "text/plain": [
       "DEPLECION DEL VOLUMEN                                                             71\n",
       "DIARREA Y GASTROENTERITIS DE PRESUNTO ORIGEN INFECCIOSO                           31\n",
       "BRONCONEUMONIA, NO ESPECIFICADA                                                   27\n",
       "DOLOR ABDOMINAL Y PELVICO                                                         18\n",
       "FIEBRE DEL DENGUE (DENGUE CLASICO)                                                17\n",
       "FIEBRE PERSISTENTE                                                                15\n",
       "FIEBRE, NO ESPECIFICADA                                                            6\n",
       "INFECCION DE VIAS URINARIAS, SITIO NO ESPECIFICADO                                 6\n",
       "INSUFICIENCIA RESPIRATORIA AGUDA                                                   5\n",
       "BRONQUITIS AGUDA                                                                   5\n",
       "ASMA                                                                               5\n",
       "FIEBRE DE ORIGEN DESCONOCIDO                                                       4\n",
       "CONVULSIONES FEBRILES                                                              4\n",
       "NEUMONIA, ORGANISMO NO ESPECIFICADO                                                3\n",
       "ANEMIA DE TIPO NO ESPECIFICADO                                                     3\n",
       "FRACTURA DEL ANTEBRAZO                                                             3\n",
       "PANCREATITIS AGUDA                                                                 3\n",
       "HEMORRAGIA GASTROINTESTINAL, NO ESPECIFICADA                                       3\n",
       "FIEBRE DEL DENGUE HEMORRAGICO                                                      3\n",
       "BRONQUITIS AGUDA, NO ESPECIFICADA                                                  2\n",
       "ABSCESO CUTANEO, FURUNCULO Y CARBUNCO                                              2\n",
       "BRONQUIOLITIS AGUDA                                                                2\n",
       "FRACTURA DE LA EPIFISIS INFERIOR DEL RADIO                                         2\n",
       "FIEBRES RECURRENTES                                                                2\n",
       "ONFALITIS DEL RECIEN NACIDO CON O SIN HEMORRAGIA LEVE                              2\n",
       "FISURA DEL PALADAR                                                                 2\n",
       "CELULITIS DE LA CARA                                                               2\n",
       "OBSTRUCCION DEL ESOFAGO                                                            2\n",
       "FRACTURA DE LA EPIFISIS SUPERIOR DEL CUBITO                                        2\n",
       "DIABETES MELLITUS, NO ESPECIFICADA                                                 2\n",
       "                                                                                  ..\n",
       "OTROS SINTOMAS Y SIGNOS QUE INVOLUCRAN LA FUNCION COGNOSCITIVA Y LA CONCIENCIA     1\n",
       "FIEBRE CON ESCALOFRIO                                                              1\n",
       "OTRA OTITIS MEDIA AGUDA, NO SUPURATIVA                                             1\n",
       "FRACTURA DE LA EPIFISIS INFERIOR DEL HUMERO                                        1\n",
       "VARICES ESOFAGICAS                                                                 1\n",
       "DIFICULTAD RESPIRATORIA DEL RECIEN NACIDO, NO ESPECIFICADA                         1\n",
       "INFECCION ESTAFILOCOCICA, SIN OTRA ESPECIFICACION                                  1\n",
       "ALCALIS CAUSTICOS Y SUSTANCIAS ALCALINAS SIMILARES                                 1\n",
       "LARINGITIS AGUDA                                                                   1\n",
       "INSUFICIENCIA RESPIRATORIA, NO CLASIFICADA EN OTRA PARTE                           1\n",
       "HIPERTENSION ESENCIAL (PRIMARIA)                                                   1\n",
       "HEMANGIOMA, DE CUALQUIER SITIO                                                     1\n",
       "RINOFARINGITIS AGUDA (RESFRIADO COMUN)                                             1\n",
       "SINDROME ESTAFILOCOCICO DE LA PIEL ESCALDADA                                       1\n",
       "EPILEPSIA Y SINDROMES EPILEPTICOS IDIOPATICOS GENERALIZADOS                        1\n",
       "INSUFICIENCIA RESPIRATORIA CRONICA                                                 1\n",
       "ENFERMEDAD CEREBROVASCULAR, NO ESPECIFICADA                                        1\n",
       "CEFALEA                                                                            1\n",
       "HERNIA INGUINAL                                                                    1\n",
       "TRAUMATISMOS SUPERFICIALES QUE AFECTAN MULTIPLES REGIONES DEL CUERPO               1\n",
       "NEUMONIA BACTERIANA, NO CLASIFICADA EN OTRA PARTE                                  1\n",
       "FRACTURA DE LA EPIFISIS INFERIOR DEL FEMUR                                         1\n",
       "OTROS TRAUMATISMOS DE LA CABEZA, ESPECIFICADOS                                     1\n",
       "OTRAS INFECCIONES LOCALES DE LA PIEL Y DEL TEJIDO SUBCUTANEO                       1\n",
       "HERIDA PENETRANTE DEL GLOBO OCULAR SIN CUERPO EXTRAÑO                              1\n",
       "OTROS TRAUMATISMOS DE COLUMNA VERTEBRAL Y DEL TRONCO, NIVEL NO ESPECIFICADO        1\n",
       "NEUMONIA, NO ESPECIFICADA                                                          1\n",
       "MIOSITIS, NO ESPECIFICADA                                                          1\n",
       "CONVULSIONES, NO CLASIFICADAS EN OTRA PARTE                                        1\n",
       "LABIO LEPORINO                                                                     1\n",
       "Name: PRINCIPAL, Length: 77, dtype: int64"
      ]
     },
     "execution_count": 6,
     "metadata": {},
     "output_type": "execute_result"
    }
   ],
   "source": [
    "records[\"PRINCIPAL\"].value_counts()"
   ]
  }
 ],
 "metadata": {
  "kernelspec": {
   "display_name": "Python 3",
   "language": "python",
   "name": "python3"
  },
  "language_info": {
   "codemirror_mode": {
    "name": "ipython",
    "version": 3
   },
   "file_extension": ".py",
   "mimetype": "text/x-python",
   "name": "python",
   "nbconvert_exporter": "python",
   "pygments_lexer": "ipython3",
   "version": "3.5.2"
  }
 },
 "nbformat": 4,
 "nbformat_minor": 2
}
